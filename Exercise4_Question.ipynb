{
  "nbformat": 4,
  "nbformat_minor": 0,
  "metadata": {
    "colab": {
      "name": "Exercise4-Question.ipynb",
      "version": "0.3.2",
      "provenance": [],
      "include_colab_link": true
    },
    "kernelspec": {
      "name": "python3",
      "display_name": "Python 3"
    }
  },
  "cells": [
    {
      "cell_type": "markdown",
      "metadata": {
        "id": "view-in-github",
        "colab_type": "text"
      },
      "source": [
        "<a href=\"https://colab.research.google.com/github/sweaterr/1_CODE/blob/master/Exercise4_Question.ipynb\" target=\"_parent\"><img src=\"https://colab.research.google.com/assets/colab-badge.svg\" alt=\"Open In Colab\"/></a>"
      ]
    },
    {
      "cell_type": "markdown",
      "metadata": {
        "id": "UncprnB0ymAE",
        "colab_type": "text"
      },
      "source": [
        "Below is code with a link to a happy or sad dataset which contains 80 images, 40 happy and 40 sad. \n",
        "Create a convolutional neural network that trains to 100% accuracy on these images,  which cancels training upon hitting training accuracy of >.999\n",
        "\n",
        "Hint -- it will work best with 3 convolutional layers."
      ]
    },
    {
      "cell_type": "code",
      "metadata": {
        "id": "7Vti6p3PxmpS",
        "colab_type": "code",
        "outputId": "b19e5d8d-70c5-4687-ee6e-f7f2e045d59f",
        "colab": {
          "base_uri": "https://localhost:8080/",
          "height": 204
        }
      },
      "source": [
        "import tensorflow as tf\n",
        "import os\n",
        "import zipfile\n",
        "\n",
        "\n",
        "DESIRED_ACCURACY = 0.999\n",
        "\n",
        "!wget --no-check-certificate \\\n",
        "    \"https://storage.googleapis.com/laurencemoroney-blog.appspot.com/happy-or-sad.zip\" \\\n",
        "    -O \"/tmp/happy-or-sad.zip\"\n",
        "\n",
        "zip_ref = zipfile.ZipFile(\"/tmp/happy-or-sad.zip\", 'r')\n",
        "zip_ref.extractall(\"/tmp/h-or-s\")\n",
        "zip_ref.close()\n",
        "\n",
        "class myCallback(tf.keras.callbacks.Callback):\n",
        "  def on_epoch_end(self, epoch, logs={}):\n",
        "    if(logs.get('acc') > DESIRED_ACCURACY):\n",
        "      print(\"Reached 99.9% accuracy so cancelling training!\")\n",
        "      self.model.stop_training = True\n",
        "\n",
        "callbacks = myCallback()"
      ],
      "execution_count": 0,
      "outputs": [
        {
          "output_type": "stream",
          "text": [
            "--2019-08-25 08:46:54--  https://storage.googleapis.com/laurencemoroney-blog.appspot.com/happy-or-sad.zip\n",
            "Resolving storage.googleapis.com (storage.googleapis.com)... 74.125.141.128, 2607:f8b0:400c:c06::80\n",
            "Connecting to storage.googleapis.com (storage.googleapis.com)|74.125.141.128|:443... connected.\n",
            "HTTP request sent, awaiting response... 200 OK\n",
            "Length: 2670333 (2.5M) [application/zip]\n",
            "Saving to: ‘/tmp/happy-or-sad.zip’\n",
            "\n",
            "\r/tmp/happy-or-sad.z   0%[                    ]       0  --.-KB/s               \r/tmp/happy-or-sad.z 100%[===================>]   2.55M  --.-KB/s    in 0.01s   \n",
            "\n",
            "2019-08-25 08:46:54 (223 MB/s) - ‘/tmp/happy-or-sad.zip’ saved [2670333/2670333]\n",
            "\n"
          ],
          "name": "stdout"
        }
      ]
    },
    {
      "cell_type": "code",
      "metadata": {
        "id": "njcjv0k57uod",
        "colab_type": "code",
        "outputId": "ec92410a-3bff-4fb8-d85c-9095b94b3752",
        "colab": {
          "base_uri": "https://localhost:8080/",
          "height": 34
        }
      },
      "source": [
        "! ls /tmp/h-or-s"
      ],
      "execution_count": 0,
      "outputs": [
        {
          "output_type": "stream",
          "text": [
            "happy  sad\n"
          ],
          "name": "stdout"
        }
      ]
    },
    {
      "cell_type": "code",
      "metadata": {
        "id": "6DLGbXXI1j_V",
        "colab_type": "code",
        "colab": {}
      },
      "source": [
        "# This Code Block should Define and Compile the Model\n",
        "model = tf.keras.models.Sequential([\n",
        "    # Note the input shape is the desired size of the image 150x150 with 3 bytes color\n",
        "    # This is the first convolution\n",
        "    tf.keras.layers.Conv2D(16, (3,3), activation='relu', input_shape=(150, 150, 3)),\n",
        "    tf.keras.layers.MaxPooling2D(2, 2),\n",
        "    # The second convolution\n",
        "    tf.keras.layers.Conv2D(32, (3,3), activation='relu'),\n",
        "    tf.keras.layers.MaxPooling2D(2,2),\n",
        "    # The third convolution\n",
        "    tf.keras.layers.Conv2D(64, (3,3), activation='relu'),\n",
        "    tf.keras.layers.MaxPooling2D(2,2),\n",
        "    # The fourth convolution\n",
        "    #tf.keras.layers.Conv2D(64, (3,3), activation='relu'),\n",
        "    #tf.keras.layers.MaxPooling2D(2,2),\n",
        "    # The fifth convolution\n",
        "    #tf.keras.layers.Conv2D(64, (3,3), activation='relu'),\n",
        "    #tf.keras.layers.MaxPooling2D(2,2),\n",
        "    # Flatten the results to feed into a DNN\n",
        "    tf.keras.layers.Flatten(),\n",
        "    # 512 neuron hidden layer\n",
        "    tf.keras.layers.Dense(512, activation='relu'),\n",
        "    # Only 1 output neuron. It will contain a value from 0-1 where 0 for 1 class ('horses') and 1 for the other ('humans')\n",
        "    tf.keras.layers.Dense(1, activation='sigmoid')\n",
        "])\n",
        "\n",
        "from tensorflow.keras.optimizers import RMSprop\n",
        "\n",
        "model.compile(loss='binary_crossentropy',\n",
        "              optimizer=RMSprop(lr=0.0001),\n",
        "              metrics=['accuracy'])"
      ],
      "execution_count": 0,
      "outputs": []
    },
    {
      "cell_type": "code",
      "metadata": {
        "id": "4Ap9fUJE1vVu",
        "colab_type": "code",
        "outputId": "604a79e9-a311-4872-8627-cac532963cc6",
        "colab": {
          "base_uri": "https://localhost:8080/",
          "height": 34
        }
      },
      "source": [
        "# This code block should create an instance of an ImageDataGenerator called train_datagen \n",
        "# And a train_generator by calling train_datagen.flow_from_directory\n",
        "\n",
        "from tensorflow.keras.preprocessing.image import ImageDataGenerator\n",
        "\n",
        "train_datagen = ImageDataGenerator(rescale=1/255)\n",
        "\n",
        "train_generator = train_datagen.flow_from_directory(\n",
        "        '/tmp/h-or-s/',  # This is the source directory for training images\n",
        "        target_size=(150, 150),  # All images will be resized to 150x150\n",
        "        batch_size=128,\n",
        "        # Since we use binary_crossentropy loss, we need binary labels\n",
        "        class_mode='binary')\n",
        "\n",
        "# Expected output: 'Found 80 images belonging to 2 classes'"
      ],
      "execution_count": 0,
      "outputs": [
        {
          "output_type": "stream",
          "text": [
            "Found 80 images belonging to 2 classes.\n"
          ],
          "name": "stdout"
        }
      ]
    },
    {
      "cell_type": "code",
      "metadata": {
        "id": "48dLm13U1-Le",
        "colab_type": "code",
        "outputId": "e500423c-e1a9-4ebe-9593-7e1f09532050",
        "colab": {
          "base_uri": "https://localhost:8080/",
          "height": 1000
        }
      },
      "source": [
        "# This code block should call model.fit_generator and train for\n",
        "# a number of epochs. \n",
        "history = model.fit_generator(train_generator,\n",
        "                              epochs=100,\n",
        "                              callbacks=[callbacks])\n",
        "# Expected output: \"Reached 99.9% accuracy so cancelling training!\"\""
      ],
      "execution_count": 0,
      "outputs": [
        {
          "output_type": "stream",
          "text": [
            "Epoch 1/100\n",
            "1/1 [==============================] - 3s 3s/step - loss: 0.6993 - acc: 0.5000\n",
            "Epoch 2/100\n",
            "1/1 [==============================] - 2s 2s/step - loss: 2.5333 - acc: 0.5000\n",
            "Epoch 3/100\n",
            "1/1 [==============================] - 2s 2s/step - loss: 0.7079 - acc: 0.5000\n",
            "Epoch 4/100\n",
            "1/1 [==============================] - 2s 2s/step - loss: 0.6735 - acc: 0.5000\n",
            "Epoch 5/100\n",
            "1/1 [==============================] - 2s 2s/step - loss: 0.6666 - acc: 0.5000\n",
            "Epoch 6/100\n",
            "1/1 [==============================] - 2s 2s/step - loss: 0.6556 - acc: 0.5000\n",
            "Epoch 7/100\n",
            "1/1 [==============================] - 2s 2s/step - loss: 0.6482 - acc: 0.5000\n",
            "Epoch 8/100\n",
            "1/1 [==============================] - 2s 2s/step - loss: 0.6376 - acc: 0.5875\n",
            "Epoch 9/100\n",
            "1/1 [==============================] - 2s 2s/step - loss: 0.6297 - acc: 0.5750\n",
            "Epoch 10/100\n",
            "1/1 [==============================] - 2s 2s/step - loss: 0.6190 - acc: 0.6625\n",
            "Epoch 11/100\n",
            "1/1 [==============================] - 2s 2s/step - loss: 0.6129 - acc: 0.5750\n",
            "Epoch 12/100\n",
            "1/1 [==============================] - 2s 2s/step - loss: 0.6047 - acc: 0.6375\n",
            "Epoch 13/100\n",
            "1/1 [==============================] - 2s 2s/step - loss: 0.6110 - acc: 0.5000\n",
            "Epoch 14/100\n",
            "1/1 [==============================] - 2s 2s/step - loss: 0.6051 - acc: 0.5375\n",
            "Epoch 15/100\n",
            "1/1 [==============================] - 2s 2s/step - loss: 0.6293 - acc: 0.5000\n",
            "Epoch 16/100\n",
            "1/1 [==============================] - 2s 2s/step - loss: 0.5918 - acc: 0.6000\n",
            "Epoch 17/100\n",
            "1/1 [==============================] - 2s 2s/step - loss: 0.5887 - acc: 0.5000\n",
            "Epoch 18/100\n",
            "1/1 [==============================] - 2s 2s/step - loss: 0.5575 - acc: 0.7500\n",
            "Epoch 19/100\n",
            "1/1 [==============================] - 2s 2s/step - loss: 0.5484 - acc: 0.8875\n",
            "Epoch 20/100\n",
            "1/1 [==============================] - 2s 2s/step - loss: 0.5341 - acc: 0.7500\n",
            "Epoch 21/100\n",
            "1/1 [==============================] - 2s 2s/step - loss: 0.5250 - acc: 0.9125\n",
            "Epoch 22/100\n",
            "1/1 [==============================] - 2s 2s/step - loss: 0.5152 - acc: 0.7500\n",
            "Epoch 23/100\n",
            "1/1 [==============================] - 2s 2s/step - loss: 0.5154 - acc: 0.8875\n",
            "Epoch 24/100\n",
            "1/1 [==============================] - 2s 2s/step - loss: 0.5215 - acc: 0.7500\n",
            "Epoch 25/100\n",
            "1/1 [==============================] - 2s 2s/step - loss: 0.5916 - acc: 0.5000\n",
            "Epoch 26/100\n",
            "1/1 [==============================] - 2s 2s/step - loss: 0.5339 - acc: 0.7125\n",
            "Epoch 27/100\n",
            "1/1 [==============================] - 2s 2s/step - loss: 0.5726 - acc: 0.5000\n",
            "Epoch 28/100\n",
            "1/1 [==============================] - 2s 2s/step - loss: 0.5042 - acc: 0.7500\n",
            "Epoch 29/100\n",
            "1/1 [==============================] - 2s 2s/step - loss: 0.4997 - acc: 0.7125\n",
            "Epoch 30/100\n",
            "1/1 [==============================] - 2s 2s/step - loss: 0.4527 - acc: 0.9750\n",
            "Epoch 31/100\n",
            "1/1 [==============================] - 2s 2s/step - loss: 0.4454 - acc: 0.9125\n",
            "Epoch 32/100\n",
            "Reached 99.9% accuracy so cancelling training!\n",
            "1/1 [==============================] - 2s 2s/step - loss: 0.4302 - acc: 1.0000\n"
          ],
          "name": "stdout"
        }
      ]
    },
    {
      "cell_type": "code",
      "metadata": {
        "id": "Z6f2kISf9JnB",
        "colab_type": "code",
        "colab": {}
      },
      "source": [
        ""
      ],
      "execution_count": 0,
      "outputs": []
    }
  ]
}